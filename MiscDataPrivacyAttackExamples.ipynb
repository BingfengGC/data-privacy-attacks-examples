{
 "cells": [
  {
   "cell_type": "markdown",
   "id": "96a33fc3-c7c8-42b5-8792-730ecbd8bdef",
   "metadata": {},
   "source": [
    "## Data Privacy Attack Examples\n",
    "\n",
    "Running extraction and inversion attacks on example models for the energy company explainer"
   ]
  },
  {
   "cell_type": "markdown",
   "id": "1e0f098d-a93f-4744-82b9-472a7c41e810",
   "metadata": {},
   "source": [
    "## 1. Reconstruction/Attribute attacks"
   ]
  },
  {
   "cell_type": "code",
   "execution_count": 1,
   "id": "8a976922-d999-4f7e-8268-57ee90d242d1",
   "metadata": {},
   "outputs": [
    {
     "name": "stderr",
     "output_type": "stream",
     "text": [
      "2024-04-03 22:23:38.745285: E external/local_xla/xla/stream_executor/cuda/cuda_dnn.cc:9261] Unable to register cuDNN factory: Attempting to register factory for plugin cuDNN when one has already been registered\n",
      "2024-04-03 22:23:38.745371: E external/local_xla/xla/stream_executor/cuda/cuda_fft.cc:607] Unable to register cuFFT factory: Attempting to register factory for plugin cuFFT when one has already been registered\n",
      "2024-04-03 22:23:38.746224: E external/local_xla/xla/stream_executor/cuda/cuda_blas.cc:1515] Unable to register cuBLAS factory: Attempting to register factory for plugin cuBLAS when one has already been registered\n",
      "2024-04-03 22:23:38.752585: I tensorflow/core/platform/cpu_feature_guard.cc:182] This TensorFlow binary is optimized to use available CPU instructions in performance-critical operations.\n",
      "To enable the following instructions: AVX2 FMA, in other operations, rebuild TensorFlow with the appropriate compiler flags.\n",
      "2024-04-03 22:23:39.530305: W tensorflow/compiler/tf2tensorrt/utils/py_utils.cc:38] TF-TRT Warning: Could not find TensorRT\n"
     ]
    }
   ],
   "source": [
    "import warnings\n",
    "warnings.filterwarnings('ignore')\n",
    "import keras.backend as k\n",
    "from keras.models import Sequential\n",
    "from keras.layers import Dense, Flatten, Conv2D, MaxPooling2D, Dropout\n",
    "import numpy as np\n",
    "from numpy.random import seed\n",
    "seed(123)\n",
    "\n",
    "from art.estimators.classification import KerasClassifier\n",
    "from art.attacks.inference.model_inversion.mi_face import MIFace\n",
    "from art.utils import load_dataset\n",
    "\n",
    "%matplotlib inline\n",
    "import matplotlib.pyplot as plt\n",
    "\n",
    "import tensorflow as tf\n",
    "tf.compat.v1.disable_eager_execution()"
   ]
  },
  {
   "cell_type": "code",
   "execution_count": 2,
   "id": "86e9f59a-5bb1-4987-9290-f7a3ef3edacc",
   "metadata": {},
   "outputs": [],
   "source": [
    "# Read MNIST dataset\n",
    "(x_train, y_train), (x_test, y_test), min_, max_ = load_dataset(str('mnist'))"
   ]
  },
  {
   "cell_type": "markdown",
   "id": "bf95a4a8-5f01-499e-985d-5a184765a30c",
   "metadata": {},
   "source": [
    "### Train model and initialize attack"
   ]
  },
  {
   "cell_type": "code",
   "execution_count": 3,
   "id": "61258443-2b88-4a60-abfe-7512c4be5ade",
   "metadata": {},
   "outputs": [],
   "source": [
    "# create standard CNN in Keras and wrap with ART KerasClassifier:\n",
    "def cnn_mnist(input_shape, min_val, max_val):\n",
    "  \n",
    "    model = Sequential()\n",
    "    model.add(Conv2D(32, kernel_size=(3, 3), activation='relu', input_shape=input_shape))\n",
    "    model.add(MaxPooling2D(pool_size=(2, 2)))\n",
    "    model.add(Conv2D(64, (3, 3), activation='relu'))\n",
    "    model.add(MaxPooling2D(pool_size=(2, 2)))\n",
    "    model.add(Dropout(0.25))\n",
    "    model.add(Flatten())\n",
    "    model.add(Dense(128, activation='relu'))\n",
    "    model.add(Dense(10, activation='softmax'))\n",
    "\n",
    "    model.compile(loss='categorical_crossentropy', optimizer='adam', metrics=['accuracy'])\n",
    "\n",
    "    classifier = KerasClassifier(clip_values=(min_val, max_val), \n",
    "                                model=model, use_logits=False)\n",
    "    return classifier"
   ]
  },
  {
   "cell_type": "markdown",
   "id": "47b5d51d-dac8-4439-87f7-ed0de6fb9aa2",
   "metadata": {},
   "source": [
    "We train this model, given this"
   ]
  },
  {
   "cell_type": "code",
   "execution_count": 11,
   "id": "67d52d72-c7ab-4d6c-b26c-5870c2f03eb1",
   "metadata": {},
   "outputs": [
    {
     "name": "stdout",
     "output_type": "stream",
     "text": [
      "Train on 60000 samples\n",
      "Epoch 1/10\n"
     ]
    },
    {
     "name": "stderr",
     "output_type": "stream",
     "text": [
      "2024-04-03 22:28:19.495807: W tensorflow/c/c_api.cc:305] Operation '{name:'training_4/Adam/dense_7/bias/m/Assign' id:1746 op device:{requested: '', assigned: ''} def:{{{node training_4/Adam/dense_7/bias/m/Assign}} = AssignVariableOp[_has_manual_control_dependencies=true, dtype=DT_FLOAT, validate_shape=false](training_4/Adam/dense_7/bias/m, training_4/Adam/dense_7/bias/m/Initializer/zeros)}}' was changed by setting attribute after it was run by a session. This mutation will have no effect, and will trigger an error in the future. Either don't modify nodes after running them or create a new session.\n"
     ]
    },
    {
     "name": "stdout",
     "output_type": "stream",
     "text": [
      "  256/60000 [..............................] - ETA: 49s - loss: 2.2859 - accuracy: 0.1133 "
     ]
    },
    {
     "name": "stderr",
     "output_type": "stream",
     "text": [
      "2024-04-03 22:28:19.732730: E tensorflow/core/grappler/optimizers/meta_optimizer.cc:961] layout failed: INVALID_ARGUMENT: Size of values 0 does not match size of permutation 4 @ fanin shape indropout_3/cond/then/_140/dropout/SelectV2-2-TransposeNHWCToNCHW-LayoutOptimizer\n"
     ]
    },
    {
     "name": "stdout",
     "output_type": "stream",
     "text": [
      "60000/60000 [==============================] - 6s 99us/sample - loss: 0.2104 - accuracy: 0.9354\n",
      "Epoch 2/10\n",
      "60000/60000 [==============================] - 6s 93us/sample - loss: 0.0630 - accuracy: 0.9807\n",
      "Epoch 3/10\n",
      "60000/60000 [==============================] - 6s 92us/sample - loss: 0.0452 - accuracy: 0.9862\n",
      "Epoch 4/10\n",
      "60000/60000 [==============================] - 5s 92us/sample - loss: 0.0373 - accuracy: 0.9883\n",
      "Epoch 5/10\n",
      "60000/60000 [==============================] - 6s 92us/sample - loss: 0.0304 - accuracy: 0.9905\n",
      "Epoch 6/10\n",
      "60000/60000 [==============================] - 6s 97us/sample - loss: 0.0262 - accuracy: 0.9912\n",
      "Epoch 7/10\n",
      "60000/60000 [==============================] - 5s 89us/sample - loss: 0.0212 - accuracy: 0.9931\n",
      "Epoch 8/10\n",
      "60000/60000 [==============================] - 5s 90us/sample - loss: 0.0183 - accuracy: 0.9940\n",
      "Epoch 9/10\n",
      "60000/60000 [==============================] - 5s 90us/sample - loss: 0.0167 - accuracy: 0.9949\n",
      "Epoch 10/10\n",
      "60000/60000 [==============================] - 5s 89us/sample - loss: 0.0141 - accuracy: 0.9958\n"
     ]
    }
   ],
   "source": [
    "num_epochs = 10\n",
    "\n",
    "# construct and train a convolutional neural network\n",
    "classifier = cnn_mnist(x_train.shape[1:], min_, max_)\n",
    "classifier.fit(x_train, y_train, nb_epochs=num_epochs, batch_size=128, verbose = True) # set verbose is true to see perfformance of the data "
   ]
  },
  {
   "cell_type": "code",
   "execution_count": 12,
   "id": "6ee6ef07-7bd9-478e-bba3-aefee2198317",
   "metadata": {},
   "outputs": [],
   "source": [
    "# Create the attack.\n",
    "# Note: by setting the threshold to 1., the attack will effectively exhaust the maximum number of iterations.\n",
    "\n",
    "attack = MIFace(classifier, max_iter=10000, threshold=1.) "
   ]
  },
  {
   "cell_type": "code",
   "execution_count": 13,
   "id": "e5c431d7-cbe3-448d-80f8-ef1278225b3d",
   "metadata": {},
   "outputs": [],
   "source": [
    "# Our attack target in the following will be to infer information about the training samples \n",
    "# for each of the 10 MNIST CLASSES:\n",
    "\n",
    "y = np.arange(10)"
   ]
  },
  {
   "cell_type": "code",
   "execution_count": 14,
   "id": "1b4cd45d-1475-42c0-b298-61cdf57ec715",
   "metadata": {},
   "outputs": [],
   "source": [
    "# We will experiment with a number of different initializations:\n",
    "\n",
    "# x_init_white = np.zeros((10, 28, 28, 1))\n",
    "# x_init_grey = np.zeros((10, 28, 28, 1)) + 0.5\n",
    "# x_init_black = np.ones((10, 28, 28, 1))\n",
    "# x_init_random = np.random.uniform(0, 1, (10, 28, 28, 1))\n",
    "x_init_average = np.zeros((10, 28, 28, 1)) + np.mean(x_test, axis=0)"
   ]
  },
  {
   "cell_type": "markdown",
   "id": "99cd0c75-5710-44e2-9456-251524573d26",
   "metadata": {},
   "source": [
    "### Initialization with average image"
   ]
  },
  {
   "cell_type": "code",
   "execution_count": 15,
   "id": "86190339-7674-4896-9181-f1b21ee9796d",
   "metadata": {},
   "outputs": [
    {
     "name": "stderr",
     "output_type": "stream",
     "text": [
      "2024-04-03 22:29:49.261780: E tensorflow/core/grappler/optimizers/meta_optimizer.cc:961] layout failed: INVALID_ARGUMENT: Size of values 0 does not match size of permutation 4 @ fanin shape indropout_3/cond/then/_140/dropout/SelectV2-2-TransposeNHWCToNCHW-LayoutOptimizer\n"
     ]
    },
    {
     "name": "stdout",
     "output_type": "stream",
     "text": [
      "Minimum over all maximum class gradient: 0.014633\n"
     ]
    }
   ],
   "source": [
    "# First, we ensure that the classifier's gradients are non-vanishing for each target class:\n",
    "\n",
    "class_gradient = classifier.class_gradient(x_init_average, y)\n",
    "class_gradient = np.reshape(class_gradient, (10, 28*28))\n",
    "class_gradient_max = np.max(class_gradient, axis=1)\n",
    "\n",
    "print(\"Minimum over all maximum class gradient: %f\" % (np.min(class_gradient_max)))"
   ]
  },
  {
   "cell_type": "code",
   "execution_count": 16,
   "id": "38140b2c-b3cd-4189-9a99-095a8719e6a0",
   "metadata": {},
   "outputs": [
    {
     "data": {
      "application/vnd.jupyter.widget-view+json": {
       "model_id": "20d977f2790b4fb0a778a630a4989eaf",
       "version_major": 2,
       "version_minor": 0
      },
      "text/plain": [
       "Model inversion:   0%|          | 0/10 [00:00<?, ?it/s]"
      ]
     },
     "metadata": {},
     "output_type": "display_data"
    },
    {
     "name": "stderr",
     "output_type": "stream",
     "text": [
      "2024-04-03 22:29:51.086758: W tensorflow/c/c_api.cc:305] Operation '{name:'dense_7/Softmax' id:1450 op device:{requested: '', assigned: ''} def:{{{node dense_7/Softmax}} = Softmax[T=DT_FLOAT, _has_manual_control_dependencies=true](dense_7/BiasAdd)}}' was changed by setting attribute after it was run by a session. This mutation will have no effect, and will trigger an error in the future. Either don't modify nodes after running them or create a new session.\n"
     ]
    },
    {
     "name": "stdout",
     "output_type": "stream",
     "text": [
      "CPU times: user 15min 33s, sys: 6min 21s, total: 21min 54s\n",
      "Wall time: 16min 38s\n"
     ]
    }
   ],
   "source": [
    "%%time\n",
    "\n",
    "# Now we run the attack:\n",
    "x_infer_from_average = attack.infer(x_init_average, y)"
   ]
  },
  {
   "cell_type": "code",
   "execution_count": 17,
   "id": "cdf919ac-c925-44d5-8a78-c9619f85a384",
   "metadata": {},
   "outputs": [
    {
     "data": {
      "image/png": "[encoded data removed]",
      "text/plain": [
       "<Figure size 1500x1500 with 10 Axes>"
      ]
     },
     "metadata": {},
     "output_type": "display_data"
    }
   ],
   "source": [
    "# Plot the inferred images:\n",
    "\n",
    "plt.figure(figsize=(15,15))\n",
    "for i in range(10):\n",
    "    plt.subplot(5, 5, i + 1)\n",
    "    plt.imshow( (np.reshape(x_infer_from_average[0+i,], (28, 28))), cmap=plt.cm.gray_r)"
   ]
  },
  {
   "cell_type": "markdown",
   "id": "b49da172-03b1-44cb-a353-f458f7b42616",
   "metadata": {},
   "source": [
    "## 2. Model Extraction - CopyCNN\n",
    "\n",
    "Example of an attack based on the copy cat behaviour of a model"
   ]
  },
  {
   "cell_type": "code",
   "execution_count": 20,
   "id": "b157f99c-1472-443c-bfa8-f0e6d10f4570",
   "metadata": {},
   "outputs": [],
   "source": [
    "from art.attacks.extraction import CopycatCNN"
   ]
  },
  {
   "cell_type": "code",
   "execution_count": 21,
   "id": "f84fe56e-937a-4c3e-a885-a74c8e548b70",
   "metadata": {},
   "outputs": [
    {
     "name": "stderr",
     "output_type": "stream",
     "text": [
      "2024-04-03 22:53:33.199772: W tensorflow/c/c_api.cc:305] Operation '{name:'count_4/Assign' id:2487 op device:{requested: '', assigned: ''} def:{{{node count_4/Assign}} = AssignVariableOp[_has_manual_control_dependencies=true, dtype=DT_FLOAT, validate_shape=false](count_4, count_4/Initializer/zeros)}}' was changed by setting attribute after it was run by a session. This mutation will have no effect, and will trigger an error in the future. Either don't modify nodes after running them or create a new session.\n",
      "2024-04-03 22:53:36.333141: W tensorflow/c/c_api.cc:305] Operation '{name:'loss_5/mul' id:2818 op device:{requested: '', assigned: ''} def:{{{node loss_5/mul}} = Mul[T=DT_FLOAT, _has_manual_control_dependencies=true](loss_5/mul/x, loss_5/dense_11_loss/value)}}' was changed by setting attribute after it was run by a session. This mutation will have no effect, and will trigger an error in the future. Either don't modify nodes after running them or create a new session.\n",
      "2024-04-03 22:53:36.613200: W tensorflow/c/c_api.cc:305] Operation '{name:'training_6/Adam/dense_10/bias/v/Assign' id:3093 op device:{requested: '', assigned: ''} def:{{{node training_6/Adam/dense_10/bias/v/Assign}} = AssignVariableOp[_has_manual_control_dependencies=true, dtype=DT_FLOAT, validate_shape=false](training_6/Adam/dense_10/bias/v, training_6/Adam/dense_10/bias/v/Initializer/zeros)}}' was changed by setting attribute after it was run by a session. This mutation will have no effect, and will trigger an error in the future. Either don't modify nodes after running them or create a new session.\n",
      "2024-04-03 22:53:37.148398: E tensorflow/core/grappler/optimizers/meta_optimizer.cc:961] layout failed: INVALID_ARGUMENT: Size of values 0 does not match size of permutation 4 @ fanin shape indropout_5/cond/then/_417/dropout/SelectV2-2-TransposeNHWCToNCHW-LayoutOptimizer\n"
     ]
    }
   ],
   "source": [
    "# create a substitute model\n",
    "\n",
    "input_shape = x_train.shape[1:]\n",
    "\n",
    "min_val, max_val = min_, max_\n",
    "substitute_model = Sequential()\n",
    "substitute_model.add(Conv2D(32, kernel_size=(3, 3), activation='relu', input_shape=input_shape))\n",
    "substitute_model.add(MaxPooling2D(pool_size=(2, 2)))\n",
    "substitute_model.add(Conv2D(64, (3, 3), activation='relu'))\n",
    "substitute_model.add(MaxPooling2D(pool_size=(2, 2)))\n",
    "substitute_model.add(Dropout(0.25))\n",
    "substitute_model.add(Flatten())\n",
    "substitute_model.add(Dense(128, activation='relu'))\n",
    "substitute_model.add(Dense(10, activation='softmax'))\n",
    "\n",
    "substitute_model.compile(loss='categorical_crossentropy', optimizer='adam', metrics=['accuracy'])\n",
    "\n",
    "substitute_classifier = KerasClassifier(clip_values=(min_val, max_val), \n",
    "                            model=substitute_model, use_logits=False)\n",
    "\n",
    "# substitute_model.compile(optimizer='adam', loss='categorical_crossentropy', metrics=['accuracy'])\n",
    "\n",
    "# substitute_classifier = TensorFlowV2Classifier(model=substitute_model, nb_classes=1000, input_shape=(224, 224, 3), loss_object=tf.keras.losses.CategoricalCrossentropy())\n",
    "\n",
    "# create CopycatCNN attack\n",
    "attack = CopycatCNN(classifier=classifier, batch_size_fit=64, batch_size_query=64, nb_epochs=10, nb_stolen=1000)\n",
    "\n",
    "# get the classifier\n",
    "# base on the training behaviour of models here for the workflow\n",
    "thieved_classifier = attack.extract(x=x_train, y=np.argmax(classifier.predict(x = x_train), axis = 1), thieved_classifier=substitute_classifier)"
   ]
  },
  {
   "cell_type": "markdown",
   "id": "b148829c-09fa-48f5-b561-d90024ed33a2",
   "metadata": {},
   "source": [
    "Checking the results on the test set\n",
    "\n",
    "The code above, evaluates the test set for MNIST, which could work in real life, just describe it afterwards.\n",
    "\n",
    "Here we evaluate the accuracy on the entire test set."
   ]
  },
  {
   "cell_type": "code",
   "execution_count": 28,
   "id": "0a1c8af2-ec56-4468-90bd-c5d5207dd225",
   "metadata": {},
   "outputs": [
    {
     "data": {
      "text/plain": [
       "array([7, 2, 1, ..., 4, 5, 6])"
      ]
     },
     "execution_count": 28,
     "metadata": {},
     "output_type": "execute_result"
    }
   ],
   "source": [
    "thieved_predictions = np.argmax(thieved_classifier.predict(x = x_test), axis = 1)\n",
    "thieved_predictions"
   ]
  },
  {
   "cell_type": "code",
   "execution_count": 29,
   "id": "160632a3-bfb1-4467-847f-d5d8cb38155d",
   "metadata": {},
   "outputs": [
    {
     "data": {
      "text/plain": [
       "array([7, 2, 1, ..., 4, 5, 6])"
      ]
     },
     "execution_count": 29,
     "metadata": {},
     "output_type": "execute_result"
    }
   ],
   "source": [
    "victim_predictions = np.argmax(classifier.predict(x = x_test), axis = 1)\n",
    "victim_predictions"
   ]
  },
  {
   "cell_type": "code",
   "execution_count": 30,
   "id": "a337518c-d1d4-43b2-b2d9-9c671e79c1c6",
   "metadata": {},
   "outputs": [
    {
     "data": {
      "text/plain": [
       "0.9438"
      ]
     },
     "execution_count": 30,
     "metadata": {},
     "output_type": "execute_result"
    }
   ],
   "source": [
    "# evaluate the accuracy with respect to a particular model\n",
    "\n",
    "acc = np.sum(victim_predictions==thieved_predictions)/len(victim_predictions)\n",
    "acc"
   ]
  },
  {
   "cell_type": "code",
   "execution_count": 35,
   "id": "f623f6a8-ce08-4d36-955d-b9467d6634b3",
   "metadata": {},
   "outputs": [],
   "source": [
    "y_test_ = np.array([np.argmax(x) for x in y_test])"
   ]
  },
  {
   "cell_type": "code",
   "execution_count": 36,
   "id": "95426423-31ba-48a2-84a7-4cde59647b6c",
   "metadata": {},
   "outputs": [
    {
     "data": {
      "text/plain": [
       "array([7, 2, 1, ..., 4, 5, 6])"
      ]
     },
     "execution_count": 36,
     "metadata": {},
     "output_type": "execute_result"
    }
   ],
   "source": [
    "y_test_ # getting true accuracy for the workflow here"
   ]
  },
  {
   "cell_type": "code",
   "execution_count": 37,
   "id": "d90c30fb-a3e4-494b-a9cf-ee8f4eaef517",
   "metadata": {},
   "outputs": [
    {
     "data": {
      "text/plain": [
       "0.9919"
      ]
     },
     "execution_count": 37,
     "metadata": {},
     "output_type": "execute_result"
    }
   ],
   "source": [
    "acc_true = np.sum(victim_predictions==y_test_)/len(victim_predictions)\n",
    "acc_true"
   ]
  },
  {
   "cell_type": "markdown",
   "id": "896dcd36-336a-48e3-b800-9da930ab2b18",
   "metadata": {},
   "source": [
    "## 3. Membership Inference attack\n",
    "\n",
    "Do this with TensorFlow privacy here for the workflow"
   ]
  },
  {
   "cell_type": "code",
   "execution_count": 42,
   "id": "a0e2f4f3-b731-42f4-b58e-5d1d50e4f731",
   "metadata": {},
   "outputs": [],
   "source": [
    "# have a different model that is useful here - check example and extrapolate.\n",
    "\n",
    "# show chat gpt example - and showcase code here as well that's it!!"
   ]
  },
  {
   "cell_type": "code",
   "execution_count": null,
   "id": "de8ae047-f72f-44b0-820b-c69d5abe7e23",
   "metadata": {},
   "outputs": [],
   "source": []
  },
  {
   "cell_type": "markdown",
   "id": "dbd79533-3a8e-40c4-90db-ef3ed972b2a7",
   "metadata": {},
   "source": [
    "## 4. Model Leakage"
   ]
  },
  {
   "cell_type": "code",
   "execution_count": 40,
   "id": "db109a68-0c16-4555-8fb5-a8013bc2201c",
   "metadata": {},
   "outputs": [
    {
     "data": {
      "text/html": [
       "<div>\n",
       "<style scoped>\n",
       "    .dataframe tbody tr th:only-of-type {\n",
       "        vertical-align: middle;\n",
       "    }\n",
       "\n",
       "    .dataframe tbody tr th {\n",
       "        vertical-align: top;\n",
       "    }\n",
       "\n",
       "    .dataframe thead th {\n",
       "        text-align: right;\n",
       "    }\n",
       "</style>\n",
       "<table border=\"1\" class=\"dataframe\">\n",
       "  <thead>\n",
       "    <tr style=\"text-align: right;\">\n",
       "      <th></th>\n",
       "      <th>energy_consumption</th>\n",
       "      <th>carbon_footprint</th>\n",
       "    </tr>\n",
       "  </thead>\n",
       "  <tbody>\n",
       "    <tr>\n",
       "      <th>0</th>\n",
       "      <td>7.270590</td>\n",
       "      <td>-4.842257</td>\n",
       "    </tr>\n",
       "    <tr>\n",
       "      <th>1</th>\n",
       "      <td>5.953136</td>\n",
       "      <td>-6.829460</td>\n",
       "    </tr>\n",
       "    <tr>\n",
       "      <th>2</th>\n",
       "      <td>7.893600</td>\n",
       "      <td>-7.416551</td>\n",
       "    </tr>\n",
       "  </tbody>\n",
       "</table>\n",
       "</div>"
      ],
      "text/plain": [
       "   energy_consumption  carbon_footprint\n",
       "0            7.270590         -4.842257\n",
       "1            5.953136         -6.829460\n",
       "2            7.893600         -7.416551"
      ]
     },
     "execution_count": 40,
     "metadata": {},
     "output_type": "execute_result"
    }
   ],
   "source": [
    "from sklearn import svm\n",
    "from sklearn.datasets import make_blobs\n",
    "import numpy as np\n",
    "import pandas as pd\n",
    "\n",
    "# generate synthetic data\n",
    "# 40 samples with 2 features representing energy_consumption and carbon_footprint\n",
    "# half of these samples will be labeled high efficiency (1) and the other half low efficiency (0)\n",
    "X, y = make_blobs(n_samples=40, centers=2, random_state=6, n_features=2)\n",
    "\n",
    "# Convert to a more meaningful dataframe for visualization\n",
    "df = pd.DataFrame(X, columns=['energy_consumption', 'carbon_footprint'])\n",
    "df['efficiency'] = y\n",
    "\n",
    "# train the SVM model\n",
    "# For simplicity, we use a linear kernel\n",
    "model = svm.SVC(kernel='linear', C=1.0)\n",
    "model.fit(X, y)\n",
    "\n",
    "# extract support vectors\n",
    "support_vectors = model.support_vectors_\n",
    "\n",
    "# output\n",
    "df_support_vectors = pd.DataFrame(support_vectors, columns=['energy_consumption', 'carbon_footprint'])\n",
    "df_support_vectors\n"
   ]
  },
  {
   "cell_type": "code",
   "execution_count": 41,
   "id": "d5e24db9-f236-4bda-8d2d-51cea3a001d6",
   "metadata": {},
   "outputs": [
    {
     "data": {
      "text/html": [
       "<div>\n",
       "<style scoped>\n",
       "    .dataframe tbody tr th:only-of-type {\n",
       "        vertical-align: middle;\n",
       "    }\n",
       "\n",
       "    .dataframe tbody tr th {\n",
       "        vertical-align: top;\n",
       "    }\n",
       "\n",
       "    .dataframe thead th {\n",
       "        text-align: right;\n",
       "    }\n",
       "</style>\n",
       "<table border=\"1\" class=\"dataframe\">\n",
       "  <thead>\n",
       "    <tr style=\"text-align: right;\">\n",
       "      <th></th>\n",
       "      <th>energy_consumption</th>\n",
       "      <th>carbon_footprint</th>\n",
       "      <th>efficiency</th>\n",
       "    </tr>\n",
       "  </thead>\n",
       "  <tbody>\n",
       "    <tr>\n",
       "      <th>16</th>\n",
       "      <td>7.270590</td>\n",
       "      <td>-4.842257</td>\n",
       "      <td>0</td>\n",
       "    </tr>\n",
       "    <tr>\n",
       "      <th>21</th>\n",
       "      <td>5.953136</td>\n",
       "      <td>-6.829460</td>\n",
       "      <td>1</td>\n",
       "    </tr>\n",
       "    <tr>\n",
       "      <th>30</th>\n",
       "      <td>7.893600</td>\n",
       "      <td>-7.416551</td>\n",
       "      <td>1</td>\n",
       "    </tr>\n",
       "  </tbody>\n",
       "</table>\n",
       "</div>"
      ],
      "text/plain": [
       "    energy_consumption  carbon_footprint  efficiency\n",
       "16            7.270590         -4.842257           0\n",
       "21            5.953136         -6.829460           1\n",
       "30            7.893600         -7.416551           1"
      ]
     },
     "execution_count": 41,
     "metadata": {},
     "output_type": "execute_result"
    }
   ],
   "source": [
    "# check that the data is in energy consumption\n",
    "\n",
    "# find the relevant results form the support vector mnachine for our model.\n",
    "\n",
    "df[df.index.isin(model.support_)]"
   ]
  },
  {
   "cell_type": "markdown",
   "id": "07bb3144-d7ed-4f9b-af13-aac712c74204",
   "metadata": {},
   "source": [
    "Here we see that for our model, we can extract relevant model information from our model.\n",
    "\n",
    "However, this will require direct access for the model, or specific model details. It could be possible to estimate the support to extract out the data.\n",
    "\n",
    "Similar model behaviour, we can perhaps extract out what these are. (other combined models) Discuss in a later section. Essentially, just check that this is the case!!"
   ]
  },
  {
   "cell_type": "code",
   "execution_count": null,
   "id": "cec7feef-e7b3-4957-bf35-2f64feee2506",
   "metadata": {},
   "outputs": [],
   "source": [
    "# take straight forward code below and use it!!, edit it later for other uses!!\n",
    "\n",
    "# combine files for the workflow where it's needed for review, and write up\n",
    "\n",
    "# write up each attack in detail - and that's it, nothing else really needed - start with the detailed write up for the other sections, and then create the poster!!"
   ]
  },
  {
   "cell_type": "markdown",
   "id": "14ae8831-6208-4501-a09d-d2614c22df7b",
   "metadata": {},
   "source": [
    "## 5. Property Inference Attack"
   ]
  },
  {
   "cell_type": "code",
   "execution_count": 1,
   "id": "9af0c647-5f26-4563-a7e4-c3fef951751f",
   "metadata": {},
   "outputs": [
    {
     "data": {
      "text/plain": [
       "1.0"
      ]
     },
     "execution_count": 1,
     "metadata": {},
     "output_type": "execute_result"
    }
   ],
   "source": [
    "from sklearn.model_selection import train_test_split\n",
    "from sklearn.ensemble import RandomForestClassifier\n",
    "from sklearn.metrics import accuracy_score\n",
    "import numpy as np\n",
    "\n",
    "# Step 1: Generate synthetic data\n",
    "np.random.seed(42)  # For reproducibility\n",
    "n_samples = 200\n",
    "# Features: energy_production, carbon_emission\n",
    "X = np.random.rand(n_samples, 2) * [100, 500]  # Scale features\n",
    "# Assume renewable energy companies are defined by lower carbon emission for the same energy production\n",
    "y = (X[:, 1] < (250 - X[:, 0] * 2.5)).astype(int)\n",
    "\n",
    "# Split into training and test sets\n",
    "X_train, X_test, y_train, y_test = train_test_split(X, y, test_size=0.2, random_state=42)\n",
    "\n",
    "# Step 2: Train a model\n",
    "model = RandomForestClassifier(n_estimators=100, random_state=42)\n",
    "model.fit(X_train, y_train)\n",
    "\n",
    "# Test the model\n",
    "predictions = model.predict(X_test)\n",
    "accuracy = accuracy_score(y_test, predictions)\n",
    "\n",
    "accuracy"
   ]
  },
  {
   "cell_type": "code",
   "execution_count": 2,
   "id": "3316257e-cfc1-4400-b28d-c6f6922b51f1",
   "metadata": {},
   "outputs": [
    {
     "data": {
      "text/plain": [
       "0.223"
      ]
     },
     "execution_count": 2,
     "metadata": {},
     "output_type": "execute_result"
    }
   ],
   "source": [
    "# generate synthetic data for property inference attack\n",
    "n_inference_samples = 1000\n",
    "X_inference = np.random.rand(n_inference_samples, 2) * [100, 500]\n",
    "\n",
    "# use the trained model to predict on this synthetic data\n",
    "inference_predictions = model.predict(X_inference)\n",
    "\n",
    "# calculate the proportion of predictions that are for renewable energy companies\n",
    "proportion_renewable_predictions = np.mean(inference_predictions)\n",
    "\n",
    "proportion_renewable_predictions\n"
   ]
  },
  {
   "cell_type": "code",
   "execution_count": 3,
   "id": "e4959844-add2-488c-8de3-8848f61fd86a",
   "metadata": {},
   "outputs": [
    {
     "data": {
      "text/plain": [
       "0.28125"
      ]
     },
     "execution_count": 3,
     "metadata": {},
     "output_type": "execute_result"
    }
   ],
   "source": [
    "actual_proportion_renewable_training = np.mean(y_train)\n",
    "\n",
    "actual_proportion_renewable_training"
   ]
  },
  {
   "cell_type": "code",
   "execution_count": null,
   "id": "bc3d1029-adca-4ef9-9997-160adba372b8",
   "metadata": {},
   "outputs": [],
   "source": [
    "# extract meaningful information - which could be useful - not 100% exact, but it is close - and we could make use of it.\n",
    "\n",
    "# that's the idea - maybe add some more synthetic data here for this - but that's the idea\n",
    "\n",
    "# edit this, and start write up tomorrow!!"
   ]
  },
  {
   "cell_type": "markdown",
   "id": "9605891c-0929-4b0f-aadf-3edb09197a30",
   "metadata": {},
   "source": [
    "# Attack and defence strategy\n",
    "\n",
    "## TensorFlow privacy"
   ]
  },
  {
   "cell_type": "code",
   "execution_count": 1,
   "id": "7b5868d0-73a2-4717-8a8d-3d2b9272e7f8",
   "metadata": {},
   "outputs": [],
   "source": [
    "# MIA seen attack strategy now, now implement the tensorflow privacy strategy here."
   ]
  },
  {
   "cell_type": "code",
   "execution_count": null,
   "id": "0b37d54e-2a10-4c2f-9884-6bb1af105413",
   "metadata": {},
   "outputs": [],
   "source": []
  }
 ],
 "metadata": {
  "kernelspec": {
   "display_name": "Python 3 (ipykernel)",
   "language": "python",
   "name": "python3"
  },
  "language_info": {
   "codemirror_mode": {
    "name": "ipython",
    "version": 3
   },
   "file_extension": ".py",
   "mimetype": "text/x-python",
   "name": "python",
   "nbconvert_exporter": "python",
   "pygments_lexer": "ipython3",
   "version": "3.10.13"
  }
 },
 "nbformat": 4,
 "nbformat_minor": 5
}
